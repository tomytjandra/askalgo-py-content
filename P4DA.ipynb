{
 "cells": [
  {
   "cell_type": "code",
   "execution_count": 1,
   "metadata": {
    "cell_style": "center",
    "hide_input": true
   },
   "outputs": [],
   "source": [
    "import pandas as pd"
   ]
  },
  {
   "cell_type": "markdown",
   "metadata": {},
   "source": [
    "# Python for Data Analysts"
   ]
  },
  {
   "cell_type": "markdown",
   "metadata": {},
   "source": [
    "## Anaconda as Environment Manager"
   ]
  },
  {
   "cell_type": "markdown",
   "metadata": {},
   "source": [
    "### Apa perbedaan dari Anaconda dan Miniconda?\n",
    "\n",
    "Anaconda adalah **Python distributor** yang menyediakan interpreter dari bahasa pemrograman Python, conda sebagai package dan environment manager, serta lebih dari 100 packages dalam satu paket pre-install untuk kebutuhan komputasi ilmiah atau analisis. Proses instalasi Anaconda akan membutuhkan beberapa gigabyte ruang disk karena ukuran bundle atau paket distribusi yang cukup besar. \n",
    "\n",
    "Miniconda adalah **versi mini** dari Anaconda yang terdiri dari bahasa pemrograman Python, conda, dan jumlah package yang lebih kecil sehingga jika Anda memiliki masalah pada ruang penyimpanan maka Anda direkomendasikan melakukan instalasi Miniconda dibandingkan dengan Anaconda."
   ]
  },
  {
   "cell_type": "markdown",
   "metadata": {},
   "source": [
    "### Apa perbedaan perintah `conda` dan `pip`?\n",
    "\n",
    "`conda` adalah package manager untuk instalasi package dimana package yang terinstall adalah versi **package yang sudah stabil**. Package yang terdaftar pada `conda` biasanya tidak hanya untuk bahasa pemrograman Python. Sedangkan `pip` adalah package manager untuk instalasi package, **spesifik** untuk bahasa pemrograman Python. \n",
    "\n",
    "Package manager mana yang akan kita gunakan untuk proses instalasi? Anda dapat menggunakan keduanya atau memilih salah satu di antara mereka. Selain itu, Anda bisa memastikan kembali pada dokumentasi package yang akan diinstalasi apakah sudah terdaftar pada `conda` atau `pip` juga."
   ]
  },
  {
   "cell_type": "markdown",
   "metadata": {},
   "source": [
    "### Untuk `conda list`, jika dalam environment tersebut terdapat banyak package, apakah memungkinkan untuk menggunakan notasi wildcard (contoh : `conda list panda*`)?\n",
    "\n",
    "Pemanggilan perintah `conda` di terminal/console **tidak bisa** dikombinasikan dengan wildcard dan harus dilihat satu per satu package yang ada di dalam sebuah environment."
   ]
  },
  {
   "cell_type": "markdown",
   "metadata": {},
   "source": [
    "### Apakah bisa membuka dua Anaconda Prompt secara bersamaan?\n",
    "\n",
    "Bisa. Anda dapat membuka lebih dari satu Anaconda Prompt untuk melakukan aktivitas yang berbeda-beda, misalnya mengakses Jupyter Notebook yang berbeda."
   ]
  },
  {
   "cell_type": "markdown",
   "metadata": {},
   "source": [
    "### Bagaimana cara untuk mengetahui bahwa sebuah package bisa cocok dengan versi Python?\n",
    "\n",
    "Tidak semua package pada Python cocok untuk semua versi Python. Ketika kita melakukan instalasi package pada versi Python yang tidak cocok, maka secara default Python akan memberikan pesan error bahwa package (dengan versi tertentu) tidak dapat diinstall dengan baik. Untuk memastikannya, Anda dapat membuka dokumentasi package tersebut agar package yang terinstall bisa cocok dengan versi Pythonnya."
   ]
  },
  {
   "cell_type": "markdown",
   "metadata": {},
   "source": [
    "### Apakah environment harus dibuat berbeda-beda untuk setiap project?\n",
    "\n",
    "Pada umumnya pembuatan environment disesuaikan dengan pengerjaan suatu project. Secara best practice, setiap environment memang hanya didedikasikan untuk satu project. Akan tetapi, Anda masih bisa menggunakan environment yang secara general sama struktur dan penggunaannya ketika akan mengerjakan project baru. Anda hanya perlu memisahkan letak project baru tersebut dengan project yang lama."
   ]
  },
  {
   "cell_type": "markdown",
   "metadata": {},
   "source": [
    "### Saat mengubah kernel, mengapa pilihan kernelnya hanya ada Python 3 saja?\n",
    "\n",
    "Jika pilihan kernel yang tampil hanya tersedia Python 3 saja, kemungkinan Anda belum membuat kernel baru. Anda dapat membuat dan mendaftarkan terlebih dahulu kernel yang nantinya dapat digunakan bersama environment Python. Berikut ini adalah cara yang bisa Anda lakukan untuk membuat sebuah kernel baru pada sebuah environment:\n",
    "\n",
    "- Langkah pertama, lakukan instalasi `ipykernel` pada environment yang telah dibuat sebelumnya\n",
    "```\n",
    "conda install ipykernel\n",
    "```\n",
    "\n",
    "- Selanjutnya daftarkan kernel tersebut pada environment yang telah dibuat\n",
    "```\n",
    "python -m ipykernel install --user --name <ENV_NAME>\n",
    "```"
   ]
  },
  {
   "cell_type": "markdown",
   "metadata": {},
   "source": [
    "## Jupyter Notebook"
   ]
  },
  {
   "cell_type": "markdown",
   "metadata": {},
   "source": [
    "### Apakah ada ketentuan khusus untuk menempatkan file notebook dalam satu folder dengan instalasi Python atau Anaconda?\n",
    "\n",
    "Tidak ada ketentuan khusus dalam menempatkan file Python. File code Python dapat disimpan di mana saja, akan tetapi disarankan untuk menyimpannya satu folder sesuai dengan project yang sedang dikerjakan. Hal ini untuk mempermudah ketika nantinya ingin mengakses file lain yang berhubungan."
   ]
  },
  {
   "cell_type": "markdown",
   "metadata": {},
   "source": [
    "### Apa perbedaan ketika saya membuka Jupyter Notebook melalui Anaconda Prompt, Command Prompt, atau icon Jupyter Notebook sendiri?\n",
    "\n",
    "Anaconda Prompt maupun Command Prompt dapat digunakan untuk membuka Jupyter Notebook dan Anda dibebaskan untuk mengaktifkan environment mana yang akan digunakan. Jika menggunakan Anaconda prompt, Anda akan langsung diberitahu di awal saat pertama kali membuka prompt Anda berada di environment base, sedangkan pada Command Prompt tidak memberikan informasi ini di awal. \n",
    "\n",
    "Apabila melalui icon Jupyter Notebook maka secara otomatis Anda akan membukanya menggunakan environment base dan Anda tidak bisa mengganti dengan environment lain. "
   ]
  },
  {
   "cell_type": "markdown",
   "metadata": {},
   "source": [
    "### Saat pertama kali membuka file .ipynb, mengapa ada pilihan \"Continue without kernel\"?\n",
    "\n",
    "<img src=\"assets/P4DA/kernel-not-found.png\" width=500>\n",
    "\n",
    "Saat pertama kali membuka file .ipynb Anda dapat memilih kernel mana yang akan dipakai. Kotak dialog tersebut muncul karena kernel tidak dapat ditemukan, karena secara default Jupyter Notebook mencari kernel bawaan dari file .ipynb yang sebelumnya dibuat. Anda dapat memilih pilihan \"Continue Without Kernel\" untuk menggunakan kernel base, atau memilih kernel yang sesuai pada daftar kernel kemudian pilih \"Set Kernel\"."
   ]
  },
  {
   "cell_type": "markdown",
   "metadata": {},
   "source": [
    "### Selain melakukan import library, apakah kita juga harus menjalankan semua kode lagi setiap membuka Jupyter Notebook?\n",
    "\n",
    "Benar. Saat membuka file .ipynb, Anda harus menjalankan kembali kode penting seperti mengimport library, memanggil variabel, dan lainnya. Cara cepat yang bisa Anda lakukan untuk menjalankan semua code adalah dengan pilihan **Run All Above** atau **Run All Below** pada Jupyter Notebook. Akan tetapi, cara ini harus ditinjau kembali karena proses running akan berhenti ketika menemukan sebuah cell yang gagal atau error dieksekusi."
   ]
  },
  {
   "cell_type": "markdown",
   "metadata": {},
   "source": [
    "### Apa arti tanda bintang `In [*]` pada sisi kiri cell di Jupyter Notebook?\n",
    "\n",
    "<img src=\"assets/P4DA/running_cell.PNG\" width=500>\n",
    "\n",
    "Tanda bintang tersebut menandakan bahwa code pada cell sedang dieksekusi. Jika cell tersebut merupakan cell code maka setelah selesai running tanda bintang tersebut akan berubah menjadi sebuah angka yang menunjukkan urutan proses running cell."
   ]
  },
  {
   "cell_type": "markdown",
   "metadata": {},
   "source": [
    "### Apa yang harus saya lakukan jika menemui error ` [Errno 13] Permission denied: '/usr/local/share/jupyter'` saat akan memanggil Jupyter Notebook? \n",
    "\n",
    "Error ini merupakan error yang muncul terkait perizinan akses user untuk memanggil, melakukan penginstallan packages, atau konfigurasi lainnya.\n",
    "\n",
    "- Jika Anda pengguna Windows OS, silahkan jalankan Anaconda Prompt sebagai administrator (Run as Administrator) atau Anda dapat menginstall kembali jupyter notebook dengan menambahkan perintah `--user` pada command.\n",
    "```\n",
    "pip install notebook --user\n",
    "```\n",
    "\n",
    "- Jika Anda pengguna Linux atau Mac OS, Anda dapat menambahkan perintah `sudo` pada konfigurasi path jupyter terlebih dahulu.\n",
    "```\n",
    "sudo chown -R username:username <PATH>\n",
    "```"
   ]
  },
  {
   "cell_type": "markdown",
   "metadata": {},
   "source": [
    "## Working with Dataframe"
   ]
  },
  {
   "cell_type": "markdown",
   "metadata": {},
   "source": [
    "### Kapan menggunakan tanda kurung kurawal `{ }`, siku `[ ]`, ataupun bulat `( )` ?\n",
    "\n",
    "**Tanda kurung kurawal `{}`** digunakan untuk membuat sebuah dictionary, berisi pasangan key dan value."
   ]
  },
  {
   "cell_type": "code",
   "execution_count": 2,
   "metadata": {},
   "outputs": [
    {
     "data": {
      "text/plain": [
       "dict"
      ]
     },
     "execution_count": 2,
     "metadata": {},
     "output_type": "execute_result"
    }
   ],
   "source": [
    "student_dict = {'Name': ['Fafilia', 'Lita', 'Tomy'],\n",
    "                'Age': [25, 26, 24],\n",
    "                'Address': ['Jakarta Selatan', 'Jakarta Pusat', 'Jakarta Barat']}\n",
    "type(student_dict)"
   ]
  },
  {
   "cell_type": "markdown",
   "metadata": {},
   "source": [
    "**Tanda kurung siku `[]`** digunakan untuk:\n",
    "1. Melakukan subsetting terhadap DataFrame (misalnya mengambil kolom atau conditional subsetting)\n",
    "2. Melakukan indexing dengan `.loc` atau `.iloc`\n",
    "3. Membuat sebuah list"
   ]
  },
  {
   "cell_type": "code",
   "execution_count": 3,
   "metadata": {},
   "outputs": [
    {
     "data": {
      "text/plain": [
       "0    Fafilia\n",
       "1       Lita\n",
       "2       Tomy\n",
       "Name: Name, dtype: object"
      ]
     },
     "execution_count": 3,
     "metadata": {},
     "output_type": "execute_result"
    }
   ],
   "source": [
    "student = pd.DataFrame(student_dict)\n",
    "\n",
    "# melakukan subsetting\n",
    "student['Name']"
   ]
  },
  {
   "cell_type": "code",
   "execution_count": 4,
   "metadata": {},
   "outputs": [
    {
     "data": {
      "text/html": [
       "<div>\n",
       "<style scoped>\n",
       "    .dataframe tbody tr th:only-of-type {\n",
       "        vertical-align: middle;\n",
       "    }\n",
       "\n",
       "    .dataframe tbody tr th {\n",
       "        vertical-align: top;\n",
       "    }\n",
       "\n",
       "    .dataframe thead th {\n",
       "        text-align: right;\n",
       "    }\n",
       "</style>\n",
       "<table border=\"1\" class=\"dataframe\">\n",
       "  <thead>\n",
       "    <tr style=\"text-align: right;\">\n",
       "      <th></th>\n",
       "      <th>Name</th>\n",
       "      <th>Age</th>\n",
       "      <th>Address</th>\n",
       "    </tr>\n",
       "  </thead>\n",
       "  <tbody>\n",
       "    <tr>\n",
       "      <th>2</th>\n",
       "      <td>Tomy</td>\n",
       "      <td>24</td>\n",
       "      <td>Jakarta Barat</td>\n",
       "    </tr>\n",
       "  </tbody>\n",
       "</table>\n",
       "</div>"
      ],
      "text/plain": [
       "   Name  Age        Address\n",
       "2  Tomy   24  Jakarta Barat"
      ]
     },
     "execution_count": 4,
     "metadata": {},
     "output_type": "execute_result"
    }
   ],
   "source": [
    "# melakukan indexing\n",
    "student.loc[2:]"
   ]
  },
  {
   "cell_type": "code",
   "execution_count": 5,
   "metadata": {},
   "outputs": [
    {
     "data": {
      "text/plain": [
       "list"
      ]
     },
     "execution_count": 5,
     "metadata": {},
     "output_type": "execute_result"
    }
   ],
   "source": [
    "# membuat list\n",
    "position = ['CEO', 'Vice President', 'General Manager']\n",
    "type(position)"
   ]
  },
  {
   "cell_type": "markdown",
   "metadata": {},
   "source": [
    "**Tanda kurung bulat `()`** digunakan untuk pemanggilan method atau fungsi. Misalnya saat memanggil method `.tail()`, `.head()`, `.describe()`, ataupun saat memanggil fungsi seperti `print()`."
   ]
  },
  {
   "cell_type": "code",
   "execution_count": 6,
   "metadata": {},
   "outputs": [
    {
     "data": {
      "text/html": [
       "<div>\n",
       "<style scoped>\n",
       "    .dataframe tbody tr th:only-of-type {\n",
       "        vertical-align: middle;\n",
       "    }\n",
       "\n",
       "    .dataframe tbody tr th {\n",
       "        vertical-align: top;\n",
       "    }\n",
       "\n",
       "    .dataframe thead th {\n",
       "        text-align: right;\n",
       "    }\n",
       "</style>\n",
       "<table border=\"1\" class=\"dataframe\">\n",
       "  <thead>\n",
       "    <tr style=\"text-align: right;\">\n",
       "      <th></th>\n",
       "      <th>Name</th>\n",
       "      <th>Age</th>\n",
       "      <th>Address</th>\n",
       "    </tr>\n",
       "  </thead>\n",
       "  <tbody>\n",
       "    <tr>\n",
       "      <th>0</th>\n",
       "      <td>Fafilia</td>\n",
       "      <td>25</td>\n",
       "      <td>Jakarta Selatan</td>\n",
       "    </tr>\n",
       "    <tr>\n",
       "      <th>1</th>\n",
       "      <td>Lita</td>\n",
       "      <td>26</td>\n",
       "      <td>Jakarta Pusat</td>\n",
       "    </tr>\n",
       "  </tbody>\n",
       "</table>\n",
       "</div>"
      ],
      "text/plain": [
       "      Name  Age          Address\n",
       "0  Fafilia   25  Jakarta Selatan\n",
       "1     Lita   26    Jakarta Pusat"
      ]
     },
     "execution_count": 6,
     "metadata": {},
     "output_type": "execute_result"
    }
   ],
   "source": [
    "# menampilkan 2 baris teratas\n",
    "student.head(2)"
   ]
  },
  {
   "cell_type": "markdown",
   "metadata": {},
   "source": [
    "### Apa perbedaan menuliskan nama kolom menggunakan tanda bracket `df[\"nama_kolom\"]` dengan pemisah titik seperti `df.nama_kolom`?\n",
    "\n",
    "Keduanya bisa digunakan untuk memanggil sebuah kolom. Berikut kelebihan dan kekurangan dari kedua metode pemanggilan kolom tersebut:\n",
    "\n",
    "**Kelebihan**\n",
    "- Pemanggilan menggunakan tanda titik lebih cepat\n",
    "- Pemanggilan menggunakan tanda bracket bisa memanggil kolom lebih dari 1 kolom\n",
    "- Pemanggilan menggunakan tanda bracket disarankan untuk nama kolom yang namanya dipisahkan oleh spasi seperti \"jenis kelamin\", \"nama depan\", dan lain-lain\n",
    "\n",
    "**Kekurangan**\n",
    "- Pemanggilan menggunakan tanda titik tidak bisa dilakukan untuk nama kolom yang namanya dipisahkan oleh spasi\n",
    "- Pemanggilan menggunakan tanda bracket membutuhkan ketelitian, harus memastikan bahwa nama kolom sudah diapit lengkap dengan tanda petik"
   ]
  },
  {
   "cell_type": "markdown",
   "metadata": {},
   "source": [
    "### Apa perbedaan penggunaan tanda petik tunggal ('string') dan ganda (\"string\") pada penulisan character atau string?\n",
    "\n",
    "Penggunaan tanda petik tunggal maupun ganda sama-sama untuk menunjukkan string. Umumnya tanda petik tunggal digunakan untuk menuliskan suatu karakter tunggal seperti 'a', 'b', '!', dan sejenisnya. Tanda petik ganda digunakan untuk menuliskan kata atau kalimat seperti \"Algoritma\", \"Algoritma Data Science School\", dan sebagainya."
   ]
  },
  {
   "cell_type": "code",
   "execution_count": 7,
   "metadata": {},
   "outputs": [
    {
     "name": "stdout",
     "output_type": "stream",
     "text": [
      "['a', 'b', 'c']\n",
      "['Algoritma', 'Data', 'Indonesia']\n"
     ]
    }
   ],
   "source": [
    "abjad = ['a','b','c']\n",
    "kata = [\"Algoritma\", \"Data\", \"Indonesia\"]\n",
    "print(abjad)\n",
    "print(kata)"
   ]
  },
  {
   "cell_type": "markdown",
   "metadata": {},
   "source": [
    "### Bagaimana cara kita ingin menampilkan tanda petik dalam string?\n",
    "\n",
    "Terdapat dua cara yang dapat dilakukan untuk menuliskan tanda petik dalam sebuah string.\n",
    "\n",
    "- Cara pertama: gunakan karakter back slash `\\` sebelum tanda kutip (baik petik tunggal atau ganda) seperti contoh di bawah ini:"
   ]
  },
  {
   "cell_type": "code",
   "execution_count": 8,
   "metadata": {},
   "outputs": [
    {
     "name": "stdout",
     "output_type": "stream",
     "text": [
      "Mereka berkata: 'Algoritma luar biasa!'\n"
     ]
    }
   ],
   "source": [
    "print('Mereka berkata: \\'Algoritma luar biasa!\\'')"
   ]
  },
  {
   "cell_type": "code",
   "execution_count": 9,
   "metadata": {
    "scrolled": true
   },
   "outputs": [
    {
     "name": "stdout",
     "output_type": "stream",
     "text": [
      "Mereka berkata: \"Algoritma luar biasa!\"\n"
     ]
    }
   ],
   "source": [
    "print(\"Mereka berkata: \\\"Algoritma luar biasa!\\\"\")"
   ]
  },
  {
   "cell_type": "markdown",
   "metadata": {},
   "source": [
    "- Cara kedua: kombinasikan petik tunggal dan ganda untuk mengapit sebuah kalimat atau string yang mengandung tanda kutip seperti contoh di bawah ini:"
   ]
  },
  {
   "cell_type": "code",
   "execution_count": 10,
   "metadata": {},
   "outputs": [
    {
     "name": "stdout",
     "output_type": "stream",
     "text": [
      "Mereka berkata: 'Algoritma luar biasa!'\n"
     ]
    }
   ],
   "source": [
    "print(\"Mereka berkata: 'Algoritma luar biasa!'\")"
   ]
  },
  {
   "cell_type": "code",
   "execution_count": 11,
   "metadata": {},
   "outputs": [
    {
     "name": "stdout",
     "output_type": "stream",
     "text": [
      "Mereka berkata: \"Algoritma luar biasa!\"\n"
     ]
    }
   ],
   "source": [
    "print('Mereka berkata: \"Algoritma luar biasa!\"')"
   ]
  },
  {
   "cell_type": "markdown",
   "metadata": {},
   "source": [
    "### Mengapa jika kita menggunakan method `.select_dtypes()` dan menggunakan parameter `include = 'integer'`, maka kolom dengan tipe data int64 tidak keluar. Sedangkan jika `include = 'float'`, maka kolom dengan tipe data float64 ikut terpilih?\n",
    "\n",
    "Secara umum, float tidak perlu dituliskan nilai bitnya sedangkan pada int perlu dituliskan nilai bitnya."
   ]
  },
  {
   "cell_type": "markdown",
   "metadata": {},
   "source": [
    "### Dalam penggunaan `.loc` jika kita telah mengatur index saat membaca data pada parameter `index_col`, apakah nantinya sistem pemanggilan nama index juga akan ikut berubah?\n",
    "\n",
    "Sistem pemanggilan nama index akan ikut berubah. Perhatikan contoh berikut ini:"
   ]
  },
  {
   "cell_type": "code",
   "execution_count": 12,
   "metadata": {
    "scrolled": true
   },
   "outputs": [
    {
     "data": {
      "text/html": [
       "<div>\n",
       "<style scoped>\n",
       "    .dataframe tbody tr th:only-of-type {\n",
       "        vertical-align: middle;\n",
       "    }\n",
       "\n",
       "    .dataframe tbody tr th {\n",
       "        vertical-align: top;\n",
       "    }\n",
       "\n",
       "    .dataframe thead th {\n",
       "        text-align: right;\n",
       "    }\n",
       "</style>\n",
       "<table border=\"1\" class=\"dataframe\">\n",
       "  <thead>\n",
       "    <tr style=\"text-align: right;\">\n",
       "      <th></th>\n",
       "      <th>ID</th>\n",
       "      <th>Consulting Sales</th>\n",
       "      <th>Software Sales</th>\n",
       "      <th>Forecasted Growth</th>\n",
       "      <th>Returns</th>\n",
       "      <th>Month</th>\n",
       "      <th>Day</th>\n",
       "      <th>Year</th>\n",
       "      <th>Location</th>\n",
       "      <th>Account</th>\n",
       "    </tr>\n",
       "    <tr>\n",
       "      <th>Customer Name</th>\n",
       "      <th></th>\n",
       "      <th></th>\n",
       "      <th></th>\n",
       "      <th></th>\n",
       "      <th></th>\n",
       "      <th></th>\n",
       "      <th></th>\n",
       "      <th></th>\n",
       "      <th></th>\n",
       "      <th></th>\n",
       "    </tr>\n",
       "  </thead>\n",
       "  <tbody>\n",
       "    <tr>\n",
       "      <th>PT. Algoritma Data Indonesia</th>\n",
       "      <td>57531</td>\n",
       "      <td>IDR850000</td>\n",
       "      <td>IDR395500</td>\n",
       "      <td>4.00%</td>\n",
       "      <td>0</td>\n",
       "      <td>7</td>\n",
       "      <td>17</td>\n",
       "      <td>2017</td>\n",
       "      <td>Jakarta</td>\n",
       "      <td>Startup</td>\n",
       "    </tr>\n",
       "  </tbody>\n",
       "</table>\n",
       "</div>"
      ],
      "text/plain": [
       "                                 ID Consulting Sales Software Sales  \\\n",
       "Customer Name                                                         \n",
       "PT. Algoritma Data Indonesia  57531        IDR850000      IDR395500   \n",
       "\n",
       "                             Forecasted Growth Returns  Month  Day  Year  \\\n",
       "Customer Name                                                              \n",
       "PT. Algoritma Data Indonesia             4.00%       0      7   17  2017   \n",
       "\n",
       "                             Location  Account  \n",
       "Customer Name                                   \n",
       "PT. Algoritma Data Indonesia  Jakarta  Startup  "
      ]
     },
     "execution_count": 12,
     "metadata": {},
     "output_type": "execute_result"
    }
   ],
   "source": [
    "companies = pd.read_csv('data_input/companies.csv', index_col = 'Customer Name')\n",
    "companies.loc[['PT. Algoritma Data Indonesia']]"
   ]
  },
  {
   "cell_type": "markdown",
   "metadata": {},
   "source": [
    "Kita mengatur kolom `Customer Name` sebagai index sehingga nilai di setiap barisnya adalah nama perusahaan. Ketika menggunakan metode `.loc[]` untuk subsetting, maka pemanggilan nama indexnya pun akan mengikuti nilai dari index dataframe itu sendiri. Pada contoh di atas, kita melakukan indexing untuk perusahaan yang bernama PT. Algoritma Data Indonesia."
   ]
  },
  {
   "cell_type": "markdown",
   "metadata": {},
   "source": [
    "### Saat melakukan conditional subsetting, apakah kita dapat menggunakan lebih dari dua kondisi?\n",
    "\n",
    "Sangat bisa. Anda dapat menggunakan lebih dari dua kondisi yang dikombinasikan menggunakan operasi & (AND) atau operasi | (OR) untuk melakukan conditional subsetting. Pada conditional subsetting, jumlah kondisi tidak terbatas dan tergantung pada kebutuhan analisis Anda.\n",
    "\n",
    "Contoh: kita ingin menampilkan `companies` yang berlokasi di Surabaya dan Bandung dan berdiri di antara tahun 2012 dan 2018."
   ]
  },
  {
   "cell_type": "code",
   "execution_count": 13,
   "metadata": {},
   "outputs": [
    {
     "data": {
      "text/html": [
       "<div>\n",
       "<style scoped>\n",
       "    .dataframe tbody tr th:only-of-type {\n",
       "        vertical-align: middle;\n",
       "    }\n",
       "\n",
       "    .dataframe tbody tr th {\n",
       "        vertical-align: top;\n",
       "    }\n",
       "\n",
       "    .dataframe thead th {\n",
       "        text-align: right;\n",
       "    }\n",
       "</style>\n",
       "<table border=\"1\" class=\"dataframe\">\n",
       "  <thead>\n",
       "    <tr style=\"text-align: right;\">\n",
       "      <th></th>\n",
       "      <th>ID</th>\n",
       "      <th>Consulting Sales</th>\n",
       "      <th>Software Sales</th>\n",
       "      <th>Forecasted Growth</th>\n",
       "      <th>Returns</th>\n",
       "      <th>Month</th>\n",
       "      <th>Day</th>\n",
       "      <th>Year</th>\n",
       "      <th>Location</th>\n",
       "      <th>Account</th>\n",
       "    </tr>\n",
       "    <tr>\n",
       "      <th>Customer Name</th>\n",
       "      <th></th>\n",
       "      <th></th>\n",
       "      <th></th>\n",
       "      <th></th>\n",
       "      <th></th>\n",
       "      <th></th>\n",
       "      <th></th>\n",
       "      <th></th>\n",
       "      <th></th>\n",
       "      <th></th>\n",
       "    </tr>\n",
       "  </thead>\n",
       "  <tbody>\n",
       "    <tr>\n",
       "      <th>PT. Kreasi Metrik Solusi</th>\n",
       "      <td>18374</td>\n",
       "      <td>0</td>\n",
       "      <td>IDR550403</td>\n",
       "      <td>25.00%</td>\n",
       "      <td>0</td>\n",
       "      <td>3</td>\n",
       "      <td>29</td>\n",
       "      <td>2012</td>\n",
       "      <td>Surabaya</td>\n",
       "      <td>Enterprise</td>\n",
       "    </tr>\n",
       "    <tr>\n",
       "      <th>Palembang Konsultansi</th>\n",
       "      <td>19002</td>\n",
       "      <td>IDR2115000</td>\n",
       "      <td>0</td>\n",
       "      <td>-15.00%</td>\n",
       "      <td>0</td>\n",
       "      <td>2</td>\n",
       "      <td>24</td>\n",
       "      <td>2018</td>\n",
       "      <td>Bandung</td>\n",
       "      <td>Startup</td>\n",
       "    </tr>\n",
       "  </tbody>\n",
       "</table>\n",
       "</div>"
      ],
      "text/plain": [
       "                             ID Consulting Sales Software Sales  \\\n",
       "Customer Name                                                     \n",
       "PT. Kreasi Metrik Solusi  18374                0      IDR550403   \n",
       "Palembang Konsultansi     19002       IDR2115000              0   \n",
       "\n",
       "                         Forecasted Growth Returns  Month  Day  Year  \\\n",
       "Customer Name                                                          \n",
       "PT. Kreasi Metrik Solusi            25.00%       0      3   29  2012   \n",
       "Palembang Konsultansi              -15.00%       0      2   24  2018   \n",
       "\n",
       "                          Location     Account  \n",
       "Customer Name                                   \n",
       "PT. Kreasi Metrik Solusi  Surabaya  Enterprise  \n",
       "Palembang Konsultansi      Bandung     Startup  "
      ]
     },
     "execution_count": 13,
     "metadata": {},
     "output_type": "execute_result"
    }
   ],
   "source": [
    "companies[((companies['Location'] == 'Surabaya') | \n",
    "           (companies['Location'] == 'Bandung')) & \n",
    "          ((companies['Year'] >= 2012) &\n",
    "           (companies['Year'] <= 2018))]"
   ]
  },
  {
   "cell_type": "markdown",
   "metadata": {},
   "source": [
    "### Bagaimana cara untuk melakukan export dataframe ke file csv?\n",
    "\n",
    "Gunakan method `.to_csv()` seperti contoh di bawah ini:\n",
    "\n",
    "```\n",
    "object_dataframe.to_csv(\"PATH/NAMA_FILE.csv\")\n",
    "```"
   ]
  }
 ],
 "metadata": {
  "kernelspec": {
   "display_name": "Python 3",
   "language": "python",
   "name": "python3"
  },
  "language_info": {
   "codemirror_mode": {
    "name": "ipython",
    "version": 3
   },
   "file_extension": ".py",
   "mimetype": "text/x-python",
   "name": "python",
   "nbconvert_exporter": "python",
   "pygments_lexer": "ipython3",
   "version": "3.7.6"
  },
  "toc": {
   "base_numbering": 1,
   "nav_menu": {},
   "number_sections": true,
   "sideBar": true,
   "skip_h1_title": true,
   "title_cell": "Table of Contents",
   "title_sidebar": "Contents",
   "toc_cell": false,
   "toc_position": {},
   "toc_section_display": true,
   "toc_window_display": false
  },
  "varInspector": {
   "cols": {
    "lenName": 16,
    "lenType": 16,
    "lenVar": 40
   },
   "kernels_config": {
    "python": {
     "delete_cmd_postfix": "",
     "delete_cmd_prefix": "del ",
     "library": "var_list.py",
     "varRefreshCmd": "print(var_dic_list())"
    },
    "r": {
     "delete_cmd_postfix": ") ",
     "delete_cmd_prefix": "rm(",
     "library": "var_list.r",
     "varRefreshCmd": "cat(var_dic_list()) "
    }
   },
   "types_to_exclude": [
    "module",
    "function",
    "builtin_function_or_method",
    "instance",
    "_Feature"
   ],
   "window_display": false
  }
 },
 "nbformat": 4,
 "nbformat_minor": 4
}
